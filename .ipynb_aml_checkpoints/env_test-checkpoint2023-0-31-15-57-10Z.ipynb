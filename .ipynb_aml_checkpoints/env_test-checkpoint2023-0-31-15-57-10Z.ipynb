{
  "cells": [
    {
      "cell_type": "code",
      "source": [
        "import os\r\n",
        "import azureml.core\r\n",
        "import pandas as pd\r\n",
        "from azureml.core.runconfig import JarLibrary\r\n",
        "from azureml.core.compute import ComputeTarget, DatabricksCompute\r\n",
        "from azureml.exceptions import ComputeTargetException\r\n",
        "from azureml.core.datastore import Datastore\r\n",
        "from azureml.data.data_reference import DataReference\r\n",
        "from azureml.core.databricks import PyPiLibrary\r\n",
        "\r\n",
        "from azureml.train.hyperdrive import RandomParameterSampling, BanditPolicy, HyperDriveConfig, PrimaryMetricGoal\r\n",
        "from azureml.core import Workspace, Environment, Experiment, Datastore, Dataset, ScriptRunConfig\r\n",
        "from azureml.pipeline.core import Pipeline, PipelineData, TrainingOutput\r\n",
        "from azureml.pipeline.steps import DatabricksStep, PythonScriptStep\r\n",
        "from azureml.train.hyperdrive import choice, loguniform\r\n",
        "\r\n",
        "from sklearn.model_selection import train_test_split\r\n",
        "from azureml.train.automl import AutoMLConfig\r\n",
        "\r\n",
        "# Check core SDK version number\r\n",
        "print(\"SDK version:\", azureml.core.VERSION)\r\n"
      ],
      "outputs": [
        {
          "output_type": "stream",
          "name": "stdout",
          "text": "SDK version: 1.47.0\n"
        }
      ],
      "execution_count": 1,
      "metadata": {
        "gather": {
          "logged": 1675178157792
        }
      }
    },
    {
      "cell_type": "code",
      "source": [
        "ws = Workspace.from_config()\r\n",
        "print(ws.name, ws.resource_group, ws.location, ws.subscription_id, sep = '\\n')\r\n"
      ],
      "outputs": [
        {
          "output_type": "stream",
          "name": "stdout",
          "text": "learningmain\nlearning\neastus\ndac8073e-1c2d-4a7d-a53b-c3655e291d58\n"
        }
      ],
      "execution_count": 2,
      "metadata": {
        "jupyter": {
          "source_hidden": false,
          "outputs_hidden": false
        },
        "nteract": {
          "transient": {
            "deleting": false
          }
        },
        "gather": {
          "logged": 1675178158339
        }
      }
    },
    {
      "cell_type": "code",
      "source": [],
      "outputs": [],
      "execution_count": null,
      "metadata": {
        "jupyter": {
          "source_hidden": false,
          "outputs_hidden": false
        },
        "nteract": {
          "transient": {
            "deleting": false
          }
        }
      }
    },
    {
      "cell_type": "code",
      "source": [
        "from azureml.core import Environment\r\n",
        "\r\n",
        "jdk_env = Environment(\"jdk_test\")\r\n"
      ],
      "outputs": [],
      "execution_count": 28,
      "metadata": {
        "jupyter": {
          "source_hidden": false,
          "outputs_hidden": false
        },
        "nteract": {
          "transient": {
            "deleting": false
          }
        },
        "gather": {
          "logged": 1675179744194
        }
      }
    },
    {
      "cell_type": "code",
      "source": [
        "%%writefile conda.yaml\r\n",
        "\r\n",
        "channels:\r\n",
        "  - pytorch\r\n",
        "  - anaconda\r\n",
        "  - conda-forge\r\n",
        "dependencies:\r\n",
        "  - python=3.7\r\n",
        "  - pip=21.1.2\r\n",
        "  - pip:\r\n",
        "      - azure-ai-ml==1.2.0\r\n",
        "      - mlflow== 1.26.1\r\n",
        "      - azureml-mlflow==1.42.0\r\n",
        "      - nvitop\r\n",
        "      - transformers\r\n",
        "      - inference-schema\r\n",
        "      - joblib\r\n",
        "      - datasets\r\n",
        "      - sentencepiece\r\n",
        "  - numpy~=1.21.6\r\n",
        "  - pandas~=1.1.5\r\n",
        "  - shap=0.39.0\r\n",
        "  - scikit-learn~=0.22.1\r\n",
        "  - pytorch==1.7.1\r\n",
        "name: nlp_training_environment\r\n"
      ],
      "outputs": [
        {
          "output_type": "stream",
          "name": "stdout",
          "text": "Overwriting conda.yaml\n"
        }
      ],
      "execution_count": 29,
      "metadata": {
        "jupyter": {
          "source_hidden": false,
          "outputs_hidden": false
        },
        "nteract": {
          "transient": {
            "deleting": false
          }
        }
      }
    },
    {
      "cell_type": "code",
      "source": [
        "# jdk_env = Environment.from_conda_specification('nlp_training_environment', 'conda.yaml')\r\n"
      ],
      "outputs": [],
      "execution_count": 30,
      "metadata": {
        "jupyter": {
          "source_hidden": false,
          "outputs_hidden": false
        },
        "nteract": {
          "transient": {
            "deleting": false
          }
        },
        "gather": {
          "logged": 1675179744738
        }
      }
    },
    {
      "cell_type": "code",
      "source": [
        "docker_file=\"\"\"\r\n",
        "FROM mcr.microsoft.com/azureml/openmpi4.1.0-cuda11.3-cudnn8-ubuntu20.04\r\n",
        "\r\n",
        "WORKDIR /\r\n",
        "\r\n",
        "ENV CONDA_PREFIX=/azureml-envs/pytorch-1.11\r\n",
        "ENV CONDA_DEFAULT_ENV=$CONDA_PREFIX\r\n",
        "ENV PATH=$CONDA_PREFIX/bin:$PATH\r\n",
        "\r\n",
        "# This is needed for mpi to locate libpython\r\n",
        "ENV LD_LIBRARY_PATH=$CONDA_PREFIX/lib:$LD_LIBRARY_PATH\r\n",
        "\r\n",
        "# Create conda environment\r\n",
        "COPY conda_dependencies.yaml .\r\n",
        "RUN conda env create -p $CONDA_PREFIX -f conda_dependencies.yaml -q && \\\r\n",
        "    rm conda_dependencies.yaml && \\\r\n",
        "    conda run -p $CONDA_PREFIX pip cache purge && \\\r\n",
        "    conda clean -a -y\r\n",
        "\r\n",
        "\"\"\""
      ],
      "outputs": [],
      "execution_count": 31,
      "metadata": {
        "jupyter": {
          "source_hidden": false,
          "outputs_hidden": false
        },
        "nteract": {
          "transient": {
            "deleting": false
          }
        },
        "gather": {
          "logged": 1675179744976
        }
      }
    },
    {
      "cell_type": "code",
      "source": [
        "# Set the base image to None, because the image is defined by Dockerfile.\r\n",
        "# jdk_env.docker.base_image = None\r\n",
        "# jdk_env.docker.base_dockerfile = docker_file"
      ],
      "outputs": [],
      "execution_count": 32,
      "metadata": {
        "jupyter": {
          "source_hidden": false,
          "outputs_hidden": false
        },
        "nteract": {
          "transient": {
            "deleting": false
          }
        },
        "gather": {
          "logged": 1675179745112
        }
      }
    },
    {
      "cell_type": "code",
      "source": [],
      "outputs": [],
      "execution_count": null,
      "metadata": {
        "jupyter": {
          "source_hidden": false,
          "outputs_hidden": false
        },
        "nteract": {
          "transient": {
            "deleting": false
          }
        }
      }
    },
    {
      "cell_type": "code",
      "source": [
        "docker_file = \"\"\"\r\n",
        "FROM mcr.microsoft.com/azureml/openmpi4.1.0-cuda11.3-cudnn8-ubuntu20.04\r\n",
        "\r\n",
        "RUN mkdir -p /usr/share/man/man1 /usr/share/man/man2 && \\\r\n",
        "    apt-get update &&\\\r\n",
        "    apt-get install -y --no-install-recommends openjdk-11-jre && \\\r\n",
        "    apt-get install ca-certificates-java -y && \\\r\n",
        "    apt-get clean && \\\r\n",
        "    update-ca-certificates -f;\r\n",
        "ENV JAVA_HOME /usr/lib/jvm/java-11-openjdk-amd64/\r\n",
        "\r\n",
        "ENV AZUREML_CONDA_ENVIRONMENT_PATH /azureml-envs/responsibleai-0.20\r\n",
        "\r\n",
        "# Install wkhtmltopdf for pdf rendering from html\r\n",
        "RUN apt-get -y update && apt-get -y install wkhtmltopdf\r\n",
        "\r\n",
        "# Create conda environment\r\n",
        "RUN conda create -p $AZUREML_CONDA_ENVIRONMENT_PATH \\\r\n",
        "    python=3.8 pip=21.3.1 -c anaconda -c conda-forge\r\n",
        "\r\n",
        "# Prepend path to AzureML conda environment\r\n",
        "ENV PATH $AZUREML_CONDA_ENVIRONMENT_PATH/bin:$PATH\r\n",
        "\r\n",
        "# Install pip dependencies\r\n",
        "# markupsafe and itsdangerous are bug workarounds\r\n",
        "RUN pip install 'responsibleai~=0.20.0' \\\r\n",
        "                'mlflow' \\\r\n",
        "                'scikit-learn<1.1'\r\n",
        "\r\n",
        "# This is needed for mpi to locate libpython\r\n",
        "ENV LD_LIBRARY_PATH $AZUREML_CONDA_ENVIRONMENT_PATH/lib:$LD_LIBRARY_PATH\r\n",
        "\r\n",
        "\r\n",
        "\"\"\""
      ],
      "outputs": [],
      "execution_count": 33,
      "metadata": {
        "jupyter": {
          "source_hidden": false,
          "outputs_hidden": false
        },
        "nteract": {
          "transient": {
            "deleting": false
          }
        },
        "gather": {
          "logged": 1675179745463
        }
      }
    },
    {
      "cell_type": "code",
      "source": [
        "docker_file = \"\"\"\r\n",
        "FROM mcr.microsoft.com/azureml/openmpi4.1.0-cuda11.3-cudnn8-ubuntu20.04\r\n",
        "\r\n",
        "RUN mkdir -p /usr/share/man/man1 /usr/share/man/man2 && \\\r\n",
        "    apt-get update &&\\\r\n",
        "    apt-get install -y --no-install-recommends openjdk-11-jre && \\\r\n",
        "    apt-get install ca-certificates-java -y && \\\r\n",
        "    apt-get clean && \\\r\n",
        "    update-ca-certificates -f;\r\n",
        "ENV JAVA_HOME /usr/lib/jvm/java-11-openjdk-amd64/\r\n",
        "\r\n",
        "ENV AZUREML_CONDA_ENVIRONMENT_PATH /azureml-envs/jdk-11-env\r\n",
        "\r\n",
        "# Install wkhtmltopdf for pdf rendering from html\r\n",
        "RUN apt-get -y update && apt-get -y install wkhtmltopdf\r\n",
        "\r\n",
        "# Create conda environment\r\n",
        "RUN conda create -p $AZUREML_CONDA_ENVIRONMENT_PATH \\\r\n",
        "    python=3.8 pip=21.3.1 -c anaconda -c conda-forge\r\n",
        "\r\n",
        "# Prepend path to AzureML conda environment\r\n",
        "ENV PATH $AZUREML_CONDA_ENVIRONMENT_PATH/bin:$PATH\r\n",
        "\r\n",
        "# Install pip dependencies\r\n",
        "# markupsafe and itsdangerous are bug workarounds\r\n",
        "RUN pip install 'responsibleai~=0.20.0' \\\r\n",
        "                'mlflow' \\\r\n",
        "                'scikit-learn<1.1'\r\n",
        "\r\n",
        "# This is needed for mpi to locate libpython\r\n",
        "ENV LD_LIBRARY_PATH $AZUREML_CONDA_ENVIRONMENT_PATH/lib:$LD_LIBRARY_PATH\r\n",
        "\r\n",
        "\r\n",
        "\"\"\""
      ],
      "outputs": [],
      "execution_count": null,
      "metadata": {
        "jupyter": {
          "source_hidden": false,
          "outputs_hidden": false
        },
        "nteract": {
          "transient": {
            "deleting": false
          }
        }
      }
    },
    {
      "cell_type": "code",
      "source": [
        "# Set the base image to None, because the image is defined by Dockerfile.\r\n",
        "jdk_env.docker.base_image = None\r\n",
        "jdk_env.docker.base_dockerfile = docker_file\r\n",
        "jdk_env.python.user_managed_dependencies = True\r\n",
        "\r\n",
        "# Alternatively, load the string from a file.\r\n",
        "# jdk_env.docker.base_image = None\r\n",
        "# jdk_env.docker.base_dockerfile = \"./Dockerfile\"\r\n"
      ],
      "outputs": [],
      "execution_count": 34,
      "metadata": {
        "jupyter": {
          "source_hidden": false,
          "outputs_hidden": false
        },
        "nteract": {
          "transient": {
            "deleting": false
          }
        },
        "gather": {
          "logged": 1675179746506
        }
      }
    },
    {
      "cell_type": "code",
      "source": [
        "jdk_env = jdk_env.register(ws)"
      ],
      "outputs": [],
      "execution_count": 35,
      "metadata": {
        "jupyter": {
          "source_hidden": false,
          "outputs_hidden": false
        },
        "nteract": {
          "transient": {
            "deleting": false
          }
        },
        "gather": {
          "logged": 1675179746781
        }
      }
    },
    {
      "cell_type": "code",
      "source": [],
      "outputs": [],
      "execution_count": null,
      "metadata": {
        "jupyter": {
          "source_hidden": false,
          "outputs_hidden": false
        },
        "nteract": {
          "transient": {
            "deleting": false
          }
        }
      }
    }
  ],
  "metadata": {
    "kernelspec": {
      "name": "python38-azureml",
      "language": "python",
      "display_name": "Python 3.8 - AzureML"
    },
    "language_info": {
      "name": "python",
      "version": "3.8.5",
      "mimetype": "text/x-python",
      "codemirror_mode": {
        "name": "ipython",
        "version": 3
      },
      "pygments_lexer": "ipython3",
      "nbconvert_exporter": "python",
      "file_extension": ".py"
    },
    "kernel_info": {
      "name": "python38-azureml"
    },
    "microsoft": {
      "host": {
        "AzureML": {
          "notebookHasBeenCompleted": true
        }
      }
    },
    "nteract": {
      "version": "nteract-front-end@1.0.0"
    }
  },
  "nbformat": 4,
  "nbformat_minor": 2
}