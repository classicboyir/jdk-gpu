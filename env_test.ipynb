{
  "cells": [
    {
      "cell_type": "code",
      "source": [
        "import os\r\n",
        "import azureml.core\r\n",
        "import pandas as pd\r\n",
        "from azureml.core.runconfig import JarLibrary\r\n",
        "from azureml.core.compute import ComputeTarget, DatabricksCompute\r\n",
        "from azureml.exceptions import ComputeTargetException\r\n",
        "from azureml.core.datastore import Datastore\r\n",
        "from azureml.data.data_reference import DataReference\r\n",
        "from azureml.core.databricks import PyPiLibrary\r\n",
        "\r\n",
        "from azureml.train.hyperdrive import RandomParameterSampling, BanditPolicy, HyperDriveConfig, PrimaryMetricGoal\r\n",
        "from azureml.core import Workspace, Environment, Experiment, Datastore, Dataset, ScriptRunConfig\r\n",
        "from azureml.pipeline.core import Pipeline, PipelineData, TrainingOutput\r\n",
        "from azureml.pipeline.steps import DatabricksStep, PythonScriptStep\r\n",
        "from azureml.train.hyperdrive import choice, loguniform\r\n",
        "\r\n",
        "from sklearn.model_selection import train_test_split\r\n",
        "from azureml.train.automl import AutoMLConfig\r\n",
        "\r\n",
        "# Check core SDK version number\r\n",
        "print(\"SDK version:\", azureml.core.VERSION)\r\n"
      ],
      "outputs": [
        {
          "output_type": "stream",
          "name": "stdout",
          "text": "SDK version: 1.47.0\n"
        }
      ],
      "execution_count": 43,
      "metadata": {
        "gather": {
          "logged": 1675270844801
        }
      }
    },
    {
      "cell_type": "code",
      "source": [
        "ws = Workspace.from_config()\r\n",
        "print(ws.name, ws.resource_group, ws.location, ws.subscription_id, sep = '\\n')\r\n"
      ],
      "outputs": [
        {
          "output_type": "stream",
          "name": "stdout",
          "text": "learningmain\nlearning\neastus\ndac8073e-1c2d-4a7d-a53b-c3655e291d58\n"
        }
      ],
      "execution_count": 44,
      "metadata": {
        "jupyter": {
          "source_hidden": false,
          "outputs_hidden": false
        },
        "nteract": {
          "transient": {
            "deleting": false
          }
        },
        "gather": {
          "logged": 1675270846266
        }
      }
    },
    {
      "cell_type": "markdown",
      "source": [
        "Add your pip and conda packages to the `RUN pip install` instruction, below."
      ],
      "metadata": {
        "nteract": {
          "transient": {
            "deleting": false
          }
        }
      }
    },
    {
      "cell_type": "code",
      "source": [
        "docker_file = \"\"\"\r\n",
        "FROM mcr.microsoft.com/azureml/openmpi4.1.0-cuda11.3-cudnn8-ubuntu20.04\r\n",
        "\r\n",
        "RUN mkdir -p /usr/share/man/man1 /usr/share/man/man2 && \\\r\n",
        "    apt-get update &&\\\r\n",
        "    apt-get install -y --no-install-recommends openjdk-11-jre && \\\r\n",
        "    apt-get install ca-certificates-java -y && \\\r\n",
        "    apt-get clean && \\\r\n",
        "    update-ca-certificates -f;\r\n",
        "ENV JAVA_HOME /usr/lib/jvm/java-11-openjdk-amd64/\r\n",
        "\r\n",
        "ENV AZUREML_CONDA_ENVIRONMENT_PATH /azureml-envs/jdk-11-env\r\n",
        "\r\n",
        "# Install wkhtmltopdf for pdf rendering from html\r\n",
        "RUN apt-get -y update && apt-get -y install wkhtmltopdf\r\n",
        "\r\n",
        "# Create conda environment\r\n",
        "RUN conda create -p $AZUREML_CONDA_ENVIRONMENT_PATH \\\r\n",
        "    python=3.8 pip=21.3.1 -c anaconda -c conda-forge\r\n",
        "\r\n",
        "# Prepend path to AzureML conda environment\r\n",
        "ENV PATH $AZUREML_CONDA_ENVIRONMENT_PATH/bin:$PATH\r\n",
        "\r\n",
        "# Install pip dependencies\r\n",
        "# markupsafe and itsdangerous are bug workarounds\r\n",
        "# RUN pip install 'responsibleai~=0.20.0' \\\r\n",
        "#                 'mlflow' \\\r\n",
        "#                 'scikit-learn<1.1'\r\n",
        "\r\n",
        "RUN conda install -p $AZUREML_CONDA_ENVIRONMENT_PATH pytorch torchvision torchaudio pytorch-cuda -c pytorch -c nvidia -y\r\n",
        "\r\n",
        "# This is needed for mpi to locate libpython\r\n",
        "ENV LD_LIBRARY_PATH $AZUREML_CONDA_ENVIRONMENT_PATH/lib:$LD_LIBRARY_PATH\r\n",
        "\r\n",
        "\"\"\""
      ],
      "outputs": [],
      "execution_count": 55,
      "metadata": {
        "jupyter": {
          "source_hidden": false,
          "outputs_hidden": false
        },
        "nteract": {
          "transient": {
            "deleting": false
          }
        },
        "gather": {
          "logged": 1675272300757
        }
      }
    },
    {
      "cell_type": "code",
      "source": [
        "print('creating new environment')\r\n",
        "jdk_env = Environment(\"jdk_gpu\")\r\n",
        "jdk_env.docker.base_image = None\r\n",
        "jdk_env.docker.base_dockerfile = docker_file\r\n",
        "jdk_env.python.user_managed_dependencies = True\r\n",
        "jdk_env = jdk_env.register(ws)\r\n",
        "jdk_env.build(ws)"
      ],
      "outputs": [
        {
          "output_type": "stream",
          "name": "stdout",
          "text": "creating new environment\n"
        },
        {
          "output_type": "stream",
          "name": "stderr",
          "text": "Environment version is set. Attempting to register desired version. To auto-version, reset version to None.\n"
        },
        {
          "output_type": "execute_result",
          "execution_count": 56,
          "data": {
            "text/plain": "<azureml.core.environment.ImageBuildDetails at 0x7f675b1abf70>"
          },
          "metadata": {}
        }
      ],
      "execution_count": 56,
      "metadata": {
        "jupyter": {
          "source_hidden": false,
          "outputs_hidden": false
        },
        "nteract": {
          "transient": {
            "deleting": false
          }
        },
        "gather": {
          "logged": 1675272306434
        }
      }
    },
    {
      "cell_type": "code",
      "source": [
        "# Set the base image to None, because the image is defined by Dockerfile.\r\n",
        "\r\n",
        "try:\r\n",
        "    jdk_env = Environment.get(ws, name=\"jdk_gpu\")\r\n",
        "    print(f'environment already exists - version: [{jdk_env.version}]')\r\n",
        "except:\r\n",
        "    print('creating new environment')\r\n",
        "    jdk_env = Environment(\"jdk_gpu\")\r\n",
        "    jdk_env.docker.base_image = None\r\n",
        "    jdk_env.docker.base_dockerfile = docker_file\r\n",
        "    jdk_env.python.user_managed_dependencies = True\r\n",
        "    jdk_env = jdk_env.register(ws)\r\n",
        "    jdk_env.build(ws)"
      ],
      "outputs": [
        {
          "output_type": "stream",
          "name": "stdout",
          "text": "environment already exists - version: [1]\n"
        }
      ],
      "execution_count": 48,
      "metadata": {
        "jupyter": {
          "source_hidden": false,
          "outputs_hidden": false
        },
        "nteract": {
          "transient": {
            "deleting": false
          }
        },
        "gather": {
          "logged": 1675270964787
        }
      }
    },
    {
      "cell_type": "code",
      "source": [
        "cluster_name = \"gpucluster\"\r\n",
        "compute_target = ComputeTarget(workspace=ws, name=cluster_name)"
      ],
      "outputs": [],
      "execution_count": 57,
      "metadata": {
        "jupyter": {
          "source_hidden": false,
          "outputs_hidden": false
        },
        "nteract": {
          "transient": {
            "deleting": false
          }
        },
        "gather": {
          "logged": 1675272320050
        }
      }
    },
    {
      "cell_type": "code",
      "source": [
        "from azureml.core import ScriptRunConfig\r\n",
        "\r\n",
        "src = ScriptRunConfig(source_directory='.',\r\n",
        "                      script='test_env.py',\r\n",
        "                      compute_target=compute_target,\r\n",
        "                      environment=jdk_env)\r\n"
      ],
      "outputs": [],
      "execution_count": 58,
      "metadata": {
        "jupyter": {
          "source_hidden": false,
          "outputs_hidden": false
        },
        "nteract": {
          "transient": {
            "deleting": false
          }
        },
        "gather": {
          "logged": 1675272327976
        }
      }
    },
    {
      "cell_type": "code",
      "source": [
        "experiment_name = 'test_java'\r\n",
        "experiment = Experiment(workspace=ws, name=experiment_name)\r\n",
        "\r\n",
        "\r\n"
      ],
      "outputs": [],
      "execution_count": 59,
      "metadata": {
        "jupyter": {
          "source_hidden": false,
          "outputs_hidden": false
        },
        "nteract": {
          "transient": {
            "deleting": false
          }
        },
        "gather": {
          "logged": 1675272329742
        }
      }
    },
    {
      "cell_type": "code",
      "source": [
        "experiment.submit(src)"
      ],
      "outputs": [
        {
          "output_type": "execute_result",
          "execution_count": 60,
          "data": {
            "text/plain": "Run(Experiment: test_java,\nId: test_java_1675272329_4b3bba9e,\nType: azureml.scriptrun,\nStatus: Preparing)",
            "text/html": "<table style=\"width:100%\"><tr><th>Experiment</th><th>Id</th><th>Type</th><th>Status</th><th>Details Page</th><th>Docs Page</th></tr><tr><td>test_java</td><td>test_java_1675272329_4b3bba9e</td><td>azureml.scriptrun</td><td>Preparing</td><td><a href=\"https://ml.azure.com/runs/test_java_1675272329_4b3bba9e?wsid=/subscriptions/dac8073e-1c2d-4a7d-a53b-c3655e291d58/resourcegroups/learning/workspaces/learningmain&amp;tid=16b3c013-d300-468d-ac64-7eda0820b6d3\" target=\"_blank\" rel=\"noopener\">Link to Azure Machine Learning studio</a></td><td><a href=\"https://docs.microsoft.com/en-us/python/api/azureml-core/azureml.core.script_run.ScriptRun?view=azure-ml-py\" target=\"_blank\" rel=\"noopener\">Link to Documentation</a></td></tr></table>"
          },
          "metadata": {}
        }
      ],
      "execution_count": 60,
      "metadata": {
        "jupyter": {
          "source_hidden": false,
          "outputs_hidden": false
        },
        "nteract": {
          "transient": {
            "deleting": false
          }
        },
        "gather": {
          "logged": 1675272335833
        }
      }
    },
    {
      "cell_type": "code",
      "source": [],
      "outputs": [],
      "execution_count": null,
      "metadata": {
        "jupyter": {
          "source_hidden": false,
          "outputs_hidden": false
        },
        "nteract": {
          "transient": {
            "deleting": false
          }
        }
      }
    }
  ],
  "metadata": {
    "kernelspec": {
      "name": "python38-azureml",
      "language": "python",
      "display_name": "Python 3.8 - AzureML"
    },
    "language_info": {
      "name": "python",
      "version": "3.8.5",
      "mimetype": "text/x-python",
      "codemirror_mode": {
        "name": "ipython",
        "version": 3
      },
      "pygments_lexer": "ipython3",
      "nbconvert_exporter": "python",
      "file_extension": ".py"
    },
    "kernel_info": {
      "name": "python38-azureml"
    },
    "microsoft": {
      "host": {
        "AzureML": {
          "notebookHasBeenCompleted": true
        }
      }
    },
    "nteract": {
      "version": "nteract-front-end@1.0.0"
    }
  },
  "nbformat": 4,
  "nbformat_minor": 2
}